{
 "cells": [
  {
   "cell_type": "code",
   "execution_count": 114,
   "id": "99e615f8",
   "metadata": {},
   "outputs": [],
   "source": [
    "#data\n",
    "import pandas as pd\n",
    "import numpy as np\n",
    "\n",
    "#Plots\n",
    "import matplotlib.pyplot as plt\n",
    "\n",
    "#linear regiression nModel Building Library\n",
    "import sklearn.linear_model"
   ]
  },
  {
   "cell_type": "code",
   "execution_count": 115,
   "id": "74596ec1",
   "metadata": {},
   "outputs": [],
   "source": [
    "data = pd.read_csv('ratings_small.csv')"
   ]
  },
  {
   "cell_type": "code",
   "execution_count": 116,
   "id": "4cb33220",
   "metadata": {},
   "outputs": [
    {
     "name": "stdout",
     "output_type": "stream",
     "text": [
      "<class 'pandas.core.frame.DataFrame'>\n",
      "RangeIndex: 100004 entries, 0 to 100003\n",
      "Data columns (total 4 columns):\n",
      " #   Column     Non-Null Count   Dtype  \n",
      "---  ------     --------------   -----  \n",
      " 0   userId     100004 non-null  int64  \n",
      " 1   movieId    100004 non-null  int64  \n",
      " 2   rating     100004 non-null  float64\n",
      " 3   timestamp  100004 non-null  int64  \n",
      "dtypes: float64(1), int64(3)\n",
      "memory usage: 3.1 MB\n"
     ]
    }
   ],
   "source": [
    "data.info()"
   ]
  },
  {
   "cell_type": "code",
   "execution_count": 117,
   "id": "7d9c15d9",
   "metadata": {},
   "outputs": [],
   "source": [
    "df = pd.DataFrame(data[['movieId','rating']])"
   ]
  },
  {
   "cell_type": "code",
   "execution_count": 118,
   "id": "e48f23b1",
   "metadata": {},
   "outputs": [],
   "source": [
    "average_rating = df.groupby(['movieId'])['rating'].mean()"
   ]
  },
  {
   "cell_type": "code",
   "execution_count": 119,
   "id": "46111203",
   "metadata": {},
   "outputs": [],
   "source": [
    "df['average_rating'] = average_rating"
   ]
  },
  {
   "cell_type": "code",
   "execution_count": 120,
   "id": "42dbe7fb",
   "metadata": {},
   "outputs": [
    {
     "data": {
      "text/plain": [
       "0              NaN\n",
       "1         3.872470\n",
       "2         3.401869\n",
       "3         3.161017\n",
       "4         2.384615\n",
       "            ...   \n",
       "99999          NaN\n",
       "100000         NaN\n",
       "100001         NaN\n",
       "100002         NaN\n",
       "100003         NaN\n",
       "Name: average_rating, Length: 100004, dtype: float64"
      ]
     },
     "execution_count": 120,
     "metadata": {},
     "output_type": "execute_result"
    }
   ],
   "source": [
    "df['average_rating']"
   ]
  },
  {
   "cell_type": "code",
   "execution_count": 121,
   "id": "ce450f9d",
   "metadata": {},
   "outputs": [],
   "source": [
    "df['rating_count'] = df.groupby(['movieId'])['rating'].count()"
   ]
  },
  {
   "cell_type": "code",
   "execution_count": 122,
   "id": "129c71fc",
   "metadata": {},
   "outputs": [],
   "source": [
    "topten = df.nlargest(10,'rating_count')"
   ]
  },
  {
   "cell_type": "code",
   "execution_count": 123,
   "id": "39861753",
   "metadata": {},
   "outputs": [
    {
     "data": {
      "text/html": [
       "<div>\n",
       "<style scoped>\n",
       "    .dataframe tbody tr th:only-of-type {\n",
       "        vertical-align: middle;\n",
       "    }\n",
       "\n",
       "    .dataframe tbody tr th {\n",
       "        vertical-align: top;\n",
       "    }\n",
       "\n",
       "    .dataframe thead th {\n",
       "        text-align: right;\n",
       "    }\n",
       "</style>\n",
       "<table border=\"1\" class=\"dataframe\">\n",
       "  <thead>\n",
       "    <tr style=\"text-align: right;\">\n",
       "      <th></th>\n",
       "      <th>movieId</th>\n",
       "      <th>rating</th>\n",
       "      <th>average_rating</th>\n",
       "      <th>rating_count</th>\n",
       "    </tr>\n",
       "  </thead>\n",
       "  <tbody>\n",
       "    <tr>\n",
       "      <th>356</th>\n",
       "      <td>231</td>\n",
       "      <td>3.5</td>\n",
       "      <td>4.054252</td>\n",
       "      <td>341.0</td>\n",
       "    </tr>\n",
       "    <tr>\n",
       "      <th>296</th>\n",
       "      <td>2263</td>\n",
       "      <td>3.0</td>\n",
       "      <td>4.256173</td>\n",
       "      <td>324.0</td>\n",
       "    </tr>\n",
       "    <tr>\n",
       "      <th>318</th>\n",
       "      <td>2791</td>\n",
       "      <td>5.0</td>\n",
       "      <td>4.487138</td>\n",
       "      <td>311.0</td>\n",
       "    </tr>\n",
       "    <tr>\n",
       "      <th>593</th>\n",
       "      <td>457</td>\n",
       "      <td>4.5</td>\n",
       "      <td>4.138158</td>\n",
       "      <td>304.0</td>\n",
       "    </tr>\n",
       "    <tr>\n",
       "      <th>260</th>\n",
       "      <td>2005</td>\n",
       "      <td>5.0</td>\n",
       "      <td>4.221649</td>\n",
       "      <td>291.0</td>\n",
       "    </tr>\n",
       "    <tr>\n",
       "      <th>480</th>\n",
       "      <td>2890</td>\n",
       "      <td>3.0</td>\n",
       "      <td>3.706204</td>\n",
       "      <td>274.0</td>\n",
       "    </tr>\n",
       "    <tr>\n",
       "      <th>2571</th>\n",
       "      <td>116797</td>\n",
       "      <td>0.5</td>\n",
       "      <td>4.183398</td>\n",
       "      <td>259.0</td>\n",
       "    </tr>\n",
       "    <tr>\n",
       "      <th>1</th>\n",
       "      <td>1029</td>\n",
       "      <td>3.0</td>\n",
       "      <td>3.872470</td>\n",
       "      <td>247.0</td>\n",
       "    </tr>\n",
       "    <tr>\n",
       "      <th>527</th>\n",
       "      <td>551</td>\n",
       "      <td>4.0</td>\n",
       "      <td>4.303279</td>\n",
       "      <td>244.0</td>\n",
       "    </tr>\n",
       "    <tr>\n",
       "      <th>589</th>\n",
       "      <td>282</td>\n",
       "      <td>2.0</td>\n",
       "      <td>4.006329</td>\n",
       "      <td>237.0</td>\n",
       "    </tr>\n",
       "  </tbody>\n",
       "</table>\n",
       "</div>"
      ],
      "text/plain": [
       "      movieId  rating  average_rating  rating_count\n",
       "356       231     3.5        4.054252         341.0\n",
       "296      2263     3.0        4.256173         324.0\n",
       "318      2791     5.0        4.487138         311.0\n",
       "593       457     4.5        4.138158         304.0\n",
       "260      2005     5.0        4.221649         291.0\n",
       "480      2890     3.0        3.706204         274.0\n",
       "2571   116797     0.5        4.183398         259.0\n",
       "1        1029     3.0        3.872470         247.0\n",
       "527       551     4.0        4.303279         244.0\n",
       "589       282     2.0        4.006329         237.0"
      ]
     },
     "execution_count": 123,
     "metadata": {},
     "output_type": "execute_result"
    }
   ],
   "source": [
    "topten"
   ]
  },
  {
   "cell_type": "code",
   "execution_count": 124,
   "id": "6ffd0ecc",
   "metadata": {},
   "outputs": [
    {
     "data": {
      "text/plain": [
       "(100004, 1)"
      ]
     },
     "execution_count": 124,
     "metadata": {},
     "output_type": "execute_result"
    }
   ],
   "source": [
    "X = data.iloc[:, 0]\n",
    "y = data.iloc[:, 2]\n",
    "X = data[['userId']]\n",
    "y = data.rating\n",
    "X.shape"
   ]
  },
  {
   "cell_type": "code",
   "execution_count": 125,
   "id": "311f8e89",
   "metadata": {},
   "outputs": [],
   "source": [
    "model = sklearn.linear_model.LinearRegression()\n",
    "model.fit(X, y)\n",
    "y_predicted = model.predict(X)"
   ]
  },
  {
   "cell_type": "code",
   "execution_count": 126,
   "id": "f20476df",
   "metadata": {},
   "outputs": [
    {
     "name": "stdout",
     "output_type": "stream",
     "text": [
      "[3.52397388 3.52397388 3.52397388 ... 3.56199296 3.56199296 3.56199296]\n"
     ]
    }
   ],
   "source": [
    "print(y_predicted)"
   ]
  },
  {
   "cell_type": "code",
   "execution_count": 127,
   "id": "152ad5e3",
   "metadata": {},
   "outputs": [],
   "source": [
    "from sklearn.model_selection import train_test_split\n",
    "X_train, X_test, y_train, y_test = train_test_split(X,y, test_size = 0.25)"
   ]
  },
  {
   "cell_type": "code",
   "execution_count": 128,
   "id": "56d3461c",
   "metadata": {},
   "outputs": [],
   "source": [
    "from sklearn.neighbors import KNeighborsRegressor \n",
    "knn_model = KNeighborsRegressor(n_neighbors=3,)\n",
    "knn_model.fit(X_train, y_train)\n",
    "y_pred = knn_model.predict(X_test)"
   ]
  },
  {
   "cell_type": "code",
   "execution_count": 129,
   "id": "c3444458",
   "metadata": {},
   "outputs": [
    {
     "name": "stdout",
     "output_type": "stream",
     "text": [
      "1.0791615785913562\n"
     ]
    }
   ],
   "source": [
    "from sklearn.metrics import mean_squared_error\n",
    "from math import sqrt\n",
    "y_preds = knn_model.predict(X_train)\n",
    "mse = mean_squared_error(y_train, y_preds)\n",
    "rmse = sqrt(mse)\n",
    "print(rmse)"
   ]
  },
  {
   "cell_type": "code",
   "execution_count": 136,
   "id": "d6a385e5",
   "metadata": {},
   "outputs": [
    {
     "data": {
      "text/html": [
       "<div>\n",
       "<style scoped>\n",
       "    .dataframe tbody tr th:only-of-type {\n",
       "        vertical-align: middle;\n",
       "    }\n",
       "\n",
       "    .dataframe tbody tr th {\n",
       "        vertical-align: top;\n",
       "    }\n",
       "\n",
       "    .dataframe thead th {\n",
       "        text-align: right;\n",
       "    }\n",
       "</style>\n",
       "<table border=\"1\" class=\"dataframe\">\n",
       "  <thead>\n",
       "    <tr style=\"text-align: right;\">\n",
       "      <th></th>\n",
       "      <th>userId</th>\n",
       "      <th>movieId</th>\n",
       "      <th>rating</th>\n",
       "      <th>timestamp</th>\n",
       "    </tr>\n",
       "  </thead>\n",
       "  <tbody>\n",
       "    <tr>\n",
       "      <th>147</th>\n",
       "      <td>4</td>\n",
       "      <td>10</td>\n",
       "      <td>4.0</td>\n",
       "      <td>949810645</td>\n",
       "    </tr>\n",
       "  </tbody>\n",
       "</table>\n",
       "</div>"
      ],
      "text/plain": [
       "     userId  movieId  rating  timestamp\n",
       "147       4       10     4.0  949810645"
      ]
     },
     "execution_count": 136,
     "metadata": {},
     "output_type": "execute_result"
    }
   ],
   "source": [
    "data.loc[(data['userId'] == 4) & (data['movieId'] == 10)]"
   ]
  },
  {
   "cell_type": "code",
   "execution_count": null,
   "id": "b93116c1",
   "metadata": {},
   "outputs": [],
   "source": []
  }
 ],
 "metadata": {
  "kernelspec": {
   "display_name": "Python 3 (ipykernel)",
   "language": "python",
   "name": "python3"
  },
  "language_info": {
   "codemirror_mode": {
    "name": "ipython",
    "version": 3
   },
   "file_extension": ".py",
   "mimetype": "text/x-python",
   "name": "python",
   "nbconvert_exporter": "python",
   "pygments_lexer": "ipython3",
   "version": "3.9.13"
  }
 },
 "nbformat": 4,
 "nbformat_minor": 5
}
